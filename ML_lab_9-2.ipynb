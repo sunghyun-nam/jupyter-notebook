{
 "metadata": {
  "language_info": {
   "codemirror_mode": {
    "name": "ipython",
    "version": 3
   },
   "file_extension": ".py",
   "mimetype": "text/x-python",
   "name": "python",
   "nbconvert_exporter": "python",
   "pygments_lexer": "ipython3",
   "version": "3.7.9-final"
  },
  "orig_nbformat": 2,
  "kernelspec": {
   "name": "python3",
   "display_name": "Python 3",
   "language": "python"
  }
 },
 "nbformat": 4,
 "nbformat_minor": 2,
 "cells": [
  {
   "cell_type": "code",
   "execution_count": 1,
   "metadata": {},
   "outputs": [],
   "source": [
    "import tensorflow as tf\n",
    "import numpy as np"
   ]
  },
  {
   "cell_type": "code",
   "execution_count": 2,
   "metadata": {},
   "outputs": [],
   "source": [
    "x_data = np.array([[0, 0], [0, 1], [1, 0], [1, 1]], dtype=np.float32)\n",
    "y_data = np.array([[0], [1], [1], [0]], dtype=np.float32)\n",
    "\n",
    "X = tf.placeholder(tf.float32, [None, 2], name=\"x\")\n",
    "Y = tf.placeholder(tf.float32, [None, 1], name=\"y\")"
   ]
  },
  {
   "cell_type": "code",
   "execution_count": 3,
   "metadata": {},
   "outputs": [],
   "source": [
    "with tf.name_scope(\"Layer1\"):\n",
    "    W1 = tf.Variable(tf.random_normal([2, 2]), name=\"weight_1\")\n",
    "    b1 = tf.Variable(tf.random_normal([2]), name=\"bias_1\")\n",
    "    layer1 = tf.sigmoid(tf.matmul(X, W1) + b1)\n",
    "\n",
    "    tf.summary.histogram(\"W1\", W1)\n",
    "    tf.summary.histogram(\"b1\", b1)\n",
    "    tf.summary.histogram(\"Layer1\", layer1)"
   ]
  },
  {
   "cell_type": "code",
   "execution_count": 4,
   "metadata": {},
   "outputs": [],
   "source": [
    "with tf.name_scope(\"Layer2\"):\n",
    "    W2 = tf.Variable(tf.random_normal([2, 1]), name=\"weight_2\")\n",
    "    b2 = tf.Variable(tf.random_normal([1]), name=\"bias_2\")\n",
    "    hypothesis = tf.sigmoid(tf.matmul(layer1, W2) + b2)\n",
    "\n",
    "    tf.summary.histogram(\"W2\", W2)\n",
    "    tf.summary.histogram(\"b2\", b2)\n",
    "    tf.summary.histogram(\"Hypothesis\", hypothesis)"
   ]
  },
  {
   "cell_type": "code",
   "execution_count": 5,
   "metadata": {},
   "outputs": [],
   "source": [
    "with tf.name_scope(\"Cost\"):\n",
    "    cost = -tf.reduce_mean(Y * tf.log(hypothesis) + (1 - Y) * tf.log(1 - hypothesis))\n",
    "    tf.summary.scalar(\"Cost\", cost)"
   ]
  },
  {
   "cell_type": "code",
   "execution_count": 6,
   "metadata": {},
   "outputs": [],
   "source": [
    "with tf.name_scope(\"Train\"):\n",
    "    train = tf.train.AdamOptimizer(learning_rate=0.01).minimize(cost)"
   ]
  },
  {
   "cell_type": "code",
   "execution_count": 7,
   "metadata": {},
   "outputs": [
    {
     "output_type": "execute_result",
     "data": {
      "text/plain": [
       "<tf.Tensor 'accuracy:0' shape=() dtype=string>"
      ]
     },
     "metadata": {},
     "execution_count": 7
    }
   ],
   "source": [
    "predicted = tf.cast(hypothesis > 0.5, dtype=tf.float32)\n",
    "accuracy = tf.reduce_mean(tf.cast(tf.equal(predicted, Y), dtype=tf.float32))\n",
    "tf.summary.scalar(\"accuracy\", accuracy)"
   ]
  },
  {
   "cell_type": "code",
   "execution_count": 8,
   "metadata": {},
   "outputs": [
    {
     "output_type": "stream",
     "name": "stdout",
     "text": [
      "0 0.70219827\n",
      "100 0.6671919\n",
      "200 0.41601783\n",
      "300 0.21921828\n",
      "400 0.13294944\n",
      "500 0.09027516\n",
      "600 0.06598124\n",
      "700 0.050689653\n",
      "800 0.04035272\n",
      "900 0.03298819\n",
      "1000 0.027527086\n",
      "1100 0.023347914\n",
      "1200 0.02006772\n",
      "1300 0.017438924\n",
      "1400 0.0152951535\n",
      "1500 0.013520919\n",
      "1600 0.0120337885\n",
      "1700 0.010773469\n",
      "1800 0.009695118\n",
      "1900 0.008764581\n",
      "2000 0.007955489\n",
      "2100 0.007247253\n",
      "2200 0.0066235783\n",
      "2300 0.0060713245\n",
      "2400 0.0055798828\n",
      "2500 0.005140626\n",
      "2600 0.004746329\n",
      "2700 0.004391071\n",
      "2800 0.0040699323\n",
      "2900 0.0037786628\n",
      "3000 0.003513707\n",
      "3100 0.0032720538\n",
      "3200 0.0030510703\n",
      "3300 0.002848502\n",
      "3400 0.0026624543\n",
      "3500 0.0024912152\n",
      "3600 0.0023332837\n",
      "3700 0.002187399\n",
      "3800 0.002052361\n",
      "3900 0.0019272548\n",
      "4000 0.0018110913\n",
      "4100 0.0017031957\n",
      "4200 0.0016027148\n",
      "4300 0.0015091685\n",
      "4400 0.0014218386\n",
      "4500 0.0013403357\n",
      "4600 0.0012641659\n",
      "4700 0.0011928804\n",
      "4800 0.0011261053\n",
      "4900 0.0010635561\n",
      "5000 0.0010048741\n",
      "5100 0.0009497454\n",
      "5200 0.0008980501\n",
      "5300 0.00084941485\n",
      "5400 0.00080364523\n",
      "5500 0.0007606217\n",
      "5600 0.00072006043\n",
      "5700 0.0006818867\n",
      "5800 0.0006458317\n",
      "5900 0.00061189523\n",
      "6000 0.0005798684\n",
      "6100 0.0005496019\n",
      "6200 0.0005210658\n",
      "6300 0.00049405114\n",
      "6400 0.00046857278\n",
      "6500 0.00044445164\n",
      "6600 0.00042165787\n",
      "6700 0.00040010194\n",
      "6800 0.00037969422\n",
      "6900 0.00036039008\n",
      "7000 0.0003420999\n",
      "7100 0.00032476406\n",
      "7200 0.00030835267\n",
      "7300 0.000292821\n",
      "7400 0.00027809443\n",
      "7500 0.00026414313\n",
      "7600 0.0002509075\n",
      "7700 0.00023835766\n",
      "7800 0.00022643394\n",
      "7900 0.00021515126\n",
      "8000 0.00020443508\n",
      "8100 0.00019428536\n",
      "8200 0.00018462757\n",
      "8300 0.0001754468\n",
      "8400 0.00016678775\n",
      "8500 0.00015856096\n",
      "8600 0.00015070682\n",
      "8700 0.00014325515\n",
      "8800 0.00013617611\n",
      "8900 0.0001294995\n",
      "9000 0.00012312099\n",
      "9100 0.00011705549\n",
      "9200 0.00011130298\n",
      "9300 0.000105833664\n",
      "9400 0.00010064752\n",
      "9500 9.5684954e-05\n",
      "9600 9.105025e-05\n",
      "9700 8.65795e-05\n",
      "9800 8.2362116e-05\n",
      "9900 7.829377e-05\n",
      "10000 7.447878e-05\n",
      "\n",
      "Hypothesis:\n",
      "[[7.0642302e-05]\n",
      " [9.9992657e-01]\n",
      " [9.9991941e-01]\n",
      " [7.3051007e-05]] \n",
      "Predicted:\n",
      "[[0.]\n",
      " [1.]\n",
      " [1.]\n",
      " [0.]] \n",
      "Accuracy:\n",
      "1.0\n"
     ]
    }
   ],
   "source": [
    "with tf.Session() as sess:\n",
    "    merged_summary = tf.summary.merge_all()\n",
    "    writer = tf.summary.FileWriter(\"./logs/xor_logs_r0_01\")\n",
    "    writer.add_graph(sess.graph)\n",
    "\n",
    "    sess.run(tf.global_variables_initializer())\n",
    "\n",
    "    for step in range(10001):\n",
    "        _, summary, cost_val = sess.run([train, merged_summary, cost], feed_dict={X: x_data, Y: y_data})\n",
    "        writer.add_summary(summary, global_step=step)\n",
    "\n",
    "        if step % 100 == 0:\n",
    "            print(step, cost_val)\n",
    "    \n",
    "    h, p, a = sess.run([hypothesis, predicted, accuracy], feed_dict={X: x_data, Y: y_data})\n",
    "    print(f\"\\nHypothesis:\\n{h} \\nPredicted:\\n{p} \\nAccuracy:\\n{a}\")"
   ]
  },
  {
   "cell_type": "code",
   "execution_count": null,
   "metadata": {},
   "outputs": [],
   "source": []
  }
 ]
}