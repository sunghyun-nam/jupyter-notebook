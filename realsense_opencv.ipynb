{
 "metadata": {
  "language_info": {
   "codemirror_mode": {
    "name": "ipython",
    "version": 3
   },
   "file_extension": ".py",
   "mimetype": "text/x-python",
   "name": "python",
   "nbconvert_exporter": "python",
   "pygments_lexer": "ipython3",
   "version": "3.7.10"
  },
  "orig_nbformat": 2,
  "kernelspec": {
   "name": "python3710jvsc74a57bd0f6d5af05d9ffa18d10e1946101517de65c44cb20f0bb637e9d7bfe5c4a6fa4ea",
   "display_name": "Python 3.7.10 64-bit ('tensorflow1': conda)"
  }
 },
 "nbformat": 4,
 "nbformat_minor": 2,
 "cells": [
  {
   "cell_type": "code",
   "execution_count": 2,
   "metadata": {},
   "outputs": [],
   "source": [
    "import pyrealsense2 as rs\n",
    "import cv2\n",
    "from realsense_depth import *"
   ]
  },
  {
   "cell_type": "code",
   "execution_count": null,
   "metadata": {},
   "outputs": [],
   "source": [
    "# Initialize camera intel realsense\n",
    "dc = DepthCamera()\n",
    "while True:\n",
    "    ret, depth_frame, color_frame = dc.get_frame()\n",
    "\n",
    "    # Show distance for a specific point\n",
    "    point = (400, 300) # random point\n",
    "    cv2.circle(color_frame, point, 4, (0, 0, 225)) \n",
    "    # point 좌표에 원 그려서 color frame에 출력\n",
    "    distance = depth_frame[point[1], point[0]]\n",
    "    print(distance) # 카메라에서 좌표를 찍은 곳 까지의 거리를 나타냄(mm)\n",
    "\n",
    "    cv2.imshow(\"depth frame\", depth_frame)\n",
    "    cv2.imshow(\"Color frame\", color_frame)\n",
    "    key = cv2.waitKey(1) \n",
    "    # 1ms 후에 다음 프레임으로 넘어감(0으로 할 경우 키(아무거나)를 눌러야 넘어감)\n",
    "    if key == 27:\n",
    "        break"
   ]
  },
  {
   "cell_type": "code",
   "execution_count": null,
   "metadata": {},
   "outputs": [],
   "source": []
  }
 ]
}