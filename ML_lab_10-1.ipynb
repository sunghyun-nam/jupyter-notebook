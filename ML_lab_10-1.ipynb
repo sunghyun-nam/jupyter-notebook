{
 "metadata": {
  "language_info": {
   "codemirror_mode": {
    "name": "ipython",
    "version": 3
   },
   "file_extension": ".py",
   "mimetype": "text/x-python",
   "name": "python",
   "nbconvert_exporter": "python",
   "pygments_lexer": "ipython3",
   "version": "3.7.9-final"
  },
  "orig_nbformat": 2,
  "kernelspec": {
   "name": "python3",
   "display_name": "Python 3",
   "language": "python"
  }
 },
 "nbformat": 4,
 "nbformat_minor": 2,
 "cells": [
  {
   "cell_type": "code",
   "execution_count": 8,
   "metadata": {},
   "outputs": [],
   "source": [
    "import tensorflow as tf\n",
    "import matplotlib.pyplot as plt\n",
    "import random\n",
    "from tensorflow.examples.tutorials.mnist import input_data"
   ]
  },
  {
   "cell_type": "code",
   "execution_count": 9,
   "metadata": {},
   "outputs": [
    {
     "output_type": "stream",
     "name": "stdout",
     "text": [
      "WARNING:tensorflow:From <ipython-input-9-9bf2da8cdc5c>:1: read_data_sets (from tensorflow.contrib.learn.python.learn.datasets.mnist) is deprecated and will be removed in a future version.\n",
      "Instructions for updating:\n",
      "Please use alternatives such as official/mnist/dataset.py from tensorflow/models.\n",
      "WARNING:tensorflow:From C:\\Users\\user\\anaconda3\\envs\\tensorflow1\\lib\\site-packages\\tensorflow_core\\contrib\\learn\\python\\learn\\datasets\\mnist.py:260: maybe_download (from tensorflow.contrib.learn.python.learn.datasets.base) is deprecated and will be removed in a future version.\n",
      "Instructions for updating:\n",
      "Please write your own downloading logic.\n",
      "WARNING:tensorflow:From C:\\Users\\user\\anaconda3\\envs\\tensorflow1\\lib\\site-packages\\tensorflow_core\\contrib\\learn\\python\\learn\\datasets\\mnist.py:262: extract_images (from tensorflow.contrib.learn.python.learn.datasets.mnist) is deprecated and will be removed in a future version.\n",
      "Instructions for updating:\n",
      "Please use tf.data to implement this functionality.\n",
      "Extracting MNIST_data/train-images-idx3-ubyte.gz\n",
      "WARNING:tensorflow:From C:\\Users\\user\\anaconda3\\envs\\tensorflow1\\lib\\site-packages\\tensorflow_core\\contrib\\learn\\python\\learn\\datasets\\mnist.py:267: extract_labels (from tensorflow.contrib.learn.python.learn.datasets.mnist) is deprecated and will be removed in a future version.\n",
      "Instructions for updating:\n",
      "Please use tf.data to implement this functionality.\n",
      "Extracting MNIST_data/train-labels-idx1-ubyte.gz\n",
      "WARNING:tensorflow:From C:\\Users\\user\\anaconda3\\envs\\tensorflow1\\lib\\site-packages\\tensorflow_core\\contrib\\learn\\python\\learn\\datasets\\mnist.py:110: dense_to_one_hot (from tensorflow.contrib.learn.python.learn.datasets.mnist) is deprecated and will be removed in a future version.\n",
      "Instructions for updating:\n",
      "Please use tf.one_hot on tensors.\n",
      "Extracting MNIST_data/t10k-images-idx3-ubyte.gz\n",
      "Extracting MNIST_data/t10k-labels-idx1-ubyte.gz\n",
      "WARNING:tensorflow:From C:\\Users\\user\\anaconda3\\envs\\tensorflow1\\lib\\site-packages\\tensorflow_core\\contrib\\learn\\python\\learn\\datasets\\mnist.py:290: DataSet.__init__ (from tensorflow.contrib.learn.python.learn.datasets.mnist) is deprecated and will be removed in a future version.\n",
      "Instructions for updating:\n",
      "Please use alternatives such as official/mnist/dataset.py from tensorflow/models.\n"
     ]
    }
   ],
   "source": [
    "mnist = input_data.read_data_sets(\"MNIST_data/\", one_hot=True)\n",
    "X = tf.placeholder(tf.float32, [None, 784])\n",
    "Y = tf.placeholder(tf.float32, [None, 10])\n",
    "\n",
    "W = tf.Variable(tf.random_normal([784, 10]))\n",
    "b = tf.Variable(tf.random_normal([10]))\n",
    "hypothesis = tf.matmul(X, W) + b\n",
    "learning_rate = 0.001\n",
    "batch_size = 100\n",
    "num_epochs = 50"
   ]
  },
  {
   "cell_type": "code",
   "execution_count": 10,
   "metadata": {},
   "outputs": [],
   "source": [
    "cost = tf.reduce_mean(tf.nn.softmax_cross_entropy_with_logits(logits=hypothesis, labels=Y))\n",
    "optimizer = tf.train.AdamOptimizer(learning_rate=learning_rate).minimize(cost)"
   ]
  },
  {
   "cell_type": "code",
   "execution_count": 12,
   "metadata": {},
   "outputs": [
    {
     "output_type": "stream",
     "name": "stdout",
     "text": [
      "Epoch: 0001 cost =  4.863736\n",
      "Epoch: 0002 cost =  1.632796\n",
      "Epoch: 0003 cost =  1.086976\n",
      "Epoch: 0004 cost =  0.864737\n",
      "Epoch: 0005 cost =  0.741410\n",
      "Epoch: 0006 cost =  0.660724\n",
      "Epoch: 0007 cost =  0.604024\n",
      "Epoch: 0008 cost =  0.559973\n",
      "Epoch: 0009 cost =  0.525290\n",
      "Epoch: 0010 cost =  0.497721\n",
      "Epoch: 0011 cost =  0.474686\n",
      "Epoch: 0012 cost =  0.454898\n",
      "Epoch: 0013 cost =  0.438376\n",
      "Epoch: 0014 cost =  0.423453\n",
      "Epoch: 0015 cost =  0.411153\n",
      "Epoch: 0016 cost =  0.399829\n",
      "Epoch: 0017 cost =  0.389752\n",
      "Epoch: 0018 cost =  0.381583\n",
      "Epoch: 0019 cost =  0.372608\n",
      "Epoch: 0020 cost =  0.366002\n",
      "Epoch: 0021 cost =  0.358465\n",
      "Epoch: 0022 cost =  0.352819\n",
      "Epoch: 0023 cost =  0.346416\n",
      "Epoch: 0024 cost =  0.341337\n",
      "Epoch: 0025 cost =  0.336048\n",
      "Epoch: 0026 cost =  0.331721\n",
      "Epoch: 0027 cost =  0.327334\n",
      "Epoch: 0028 cost =  0.323300\n",
      "Epoch: 0029 cost =  0.319250\n",
      "Epoch: 0030 cost =  0.315877\n",
      "Epoch: 0031 cost =  0.312631\n",
      "Epoch: 0032 cost =  0.309463\n",
      "Epoch: 0033 cost =  0.306217\n",
      "Epoch: 0034 cost =  0.302939\n",
      "Epoch: 0035 cost =  0.300365\n",
      "Epoch: 0036 cost =  0.297937\n",
      "Epoch: 0037 cost =  0.295535\n",
      "Epoch: 0038 cost =  0.293013\n",
      "Epoch: 0039 cost =  0.290867\n",
      "Epoch: 0040 cost =  0.289121\n",
      "Epoch: 0041 cost =  0.286688\n",
      "Epoch: 0042 cost =  0.284492\n",
      "Epoch: 0043 cost =  0.282811\n",
      "Epoch: 0044 cost =  0.281148\n",
      "Epoch: 0045 cost =  0.279670\n",
      "Epoch: 0046 cost =  0.278010\n",
      "Epoch: 0047 cost =  0.275906\n",
      "Epoch: 0048 cost =  0.274696\n",
      "Epoch: 0049 cost =  0.273140\n",
      "Epoch: 0050 cost =  0.271779\n",
      "Learning Finished!\n",
      "Accuracy: 0.9168\n"
     ]
    }
   ],
   "source": [
    "sess = tf.Session()\n",
    "sess.run(tf.global_variables_initializer())\n",
    "\n",
    "for epoch in range(num_epochs):\n",
    "    avg_cost = 0\n",
    "    total_batch = int(mnist.train.num_examples / batch_size)\n",
    "\n",
    "    for i in range(total_batch):\n",
    "        batch_xs, batch_ys = mnist.train.next_batch(batch_size)\n",
    "        feed_dict = {X: batch_xs, Y: batch_ys}\n",
    "        c, _ = sess.run([cost, optimizer], feed_dict=feed_dict)\n",
    "        avg_cost += c / total_batch\n",
    "    print('Epoch:', '%04d' %(epoch + 1), 'cost =', '{:9f}'.format(avg_cost))\n",
    "print('Learning Finished!')\n",
    "\n",
    "correct_prediction = tf.equal(tf.argmax(hypothesis, 1), tf.argmax(Y, 1))\n",
    "accuracy = tf.reduce_mean(tf.cast(correct_prediction, tf.float32))\n",
    "print(\"Accuracy:\", sess.run(accuracy, feed_dict={X: mnist.test.images, Y: mnist.test.labels}))"
   ]
  },
  {
   "cell_type": "code",
   "execution_count": null,
   "metadata": {},
   "outputs": [],
   "source": []
  }
 ]
}