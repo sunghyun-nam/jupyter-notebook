{
 "metadata": {
  "language_info": {
   "codemirror_mode": {
    "name": "ipython",
    "version": 3
   },
   "file_extension": ".py",
   "mimetype": "text/x-python",
   "name": "python",
   "nbconvert_exporter": "python",
   "pygments_lexer": "ipython3",
   "version": "3.7.10"
  },
  "orig_nbformat": 2,
  "kernelspec": {
   "name": "python3710jvsc74a57bd0f6d5af05d9ffa18d10e1946101517de65c44cb20f0bb637e9d7bfe5c4a6fa4ea",
   "display_name": "Python 3.7.10 64-bit ('tensorflow1': conda)"
  }
 },
 "nbformat": 4,
 "nbformat_minor": 2,
 "cells": [
  {
   "cell_type": "code",
   "execution_count": 1,
   "metadata": {},
   "outputs": [],
   "source": [
    "import pyrealsense2 as rs\n",
    "import cv2\n",
    "from realsense_depth import *"
   ]
  },
  {
   "cell_type": "code",
   "execution_count": null,
   "metadata": {},
   "outputs": [],
   "source": [
    "# Initialize camera intel realsense\n",
    "dc = DepthCamera()\n",
    "\n",
    "point = (400, 300)\n",
    "\n",
    "def show_distance(event, x, y, args, params):\n",
    "    global point\n",
    "    point = (x, y)\n",
    "cv2.namedWindow(\"Color frame\")\n",
    "cv2.setMouseCallback(\"Color frame\", show_distance)\n",
    "while True:\n",
    "    ret, depth_frame, color_frame = dc.get_frame()\n",
    "\n",
    "    # Show distance for a specific point\n",
    "    cv2.circle(color_frame, point, 4, (0, 0, 225)) # point 좌표에 원 그려서 color frame에 출력\n",
    "    distance = depth_frame[point[1], point[0]]\n",
    "    cv2.putText(color_frame, \"{}mm\".format(distance), (point[0], point[1]), cv2.FONT_HERSHEY_PLAIN, 1,(0, 0, 0), 2)\n",
    "#     print(distance) # 카메라에서 좌표를 찍은 곳 까지의 거리를 나타냄(mm)\n",
    "\n",
    "    cv2.imshow(\"depth frame\", depth_frame)\n",
    "    cv2.imshow(\"Color frame\", color_frame)\n",
    "    key = cv2.waitKey(1) # 1ms 후에 다음 프레임으로 넘어감(0으로 할 경우 아무키를 눌러야 넘어감)\n",
    "    if key == 27:\n",
    "        break\n",
    "\n",
    "# 마우스가 위치한 곳에서 카메라까지의 거리를 측정(정확도는 다소 떨어짐)"
   ]
  }
 ]
}