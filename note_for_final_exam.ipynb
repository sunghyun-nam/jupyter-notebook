{
 "metadata": {
  "language_info": {
   "codemirror_mode": {
    "name": "ipython",
    "version": 3
   },
   "file_extension": ".py",
   "mimetype": "text/x-python",
   "name": "python",
   "nbconvert_exporter": "python",
   "pygments_lexer": "ipython3",
   "version": "3.6.13"
  },
  "orig_nbformat": 2,
  "kernelspec": {
   "name": "python3613jvsc74a57bd0f6d5af05d9ffa18d10e1946101517de65c44cb20f0bb637e9d7bfe5c4a6fa4ea",
   "display_name": "Python 3.6.13 64-bit ('tensorflow1': conda)"
  }
 },
 "nbformat": 4,
 "nbformat_minor": 2,
 "cells": [
  {
   "cell_type": "code",
   "execution_count": 1,
   "metadata": {},
   "outputs": [],
   "source": [
    "# 원하는 만큼 여러 숫자를 입력받아, 그 중 홀수의 개수를 세어서 알려주기\n",
    "\n",
    "# 입력된 숫자를 전부 모았다가 나중에 홀수의 개수 세기\n",
    "# 리스트를 만들어서 숫자를 전부 모은다."
   ]
  },
  {
   "cell_type": "code",
   "execution_count": null,
   "metadata": {},
   "outputs": [],
   "source": [
    "num_list = []\n",
    "while True:\n",
    "    num = int(input(\"숫자를 입력하세요(끝내고 싶으면 -1) : \"))\n",
    "    if num == -1:\n",
    "        break\n",
    "\n",
    "    num_list.append(num)\n",
    "print(num_list)\n",
    "\n",
    "# 숫자를 모은 num_list에서 홀수의 개수를 세는 부분\n",
    "count = 0\n",
    "for i in num_list:\n",
    "    if i%2 == 1:\n",
    "        count = count + 1\n",
    "print(count)"
   ]
  },
  {
   "cell_type": "code",
   "execution_count": null,
   "metadata": {},
   "outputs": [],
   "source": [
    "# 원하는 만큼 여러 숫자를 입력받아, 그 중 홀수의 개수를 세어서 알려주기\n",
    "# 입력된 숫자들을 가지고 다른 직업(ex. 개수가 아니라 합계)을 하고 싶다면\n",
    "# 유연성(flexibility)"
   ]
  },
  {
   "cell_type": "code",
   "execution_count": null,
   "metadata": {},
   "outputs": [],
   "source": [
    "count = 0\n",
    "while True:\n",
    "    num = int(input(\"숫자를 입력하세요(끝내고 싶으면 - 1) : \"))\n",
    "    if num == -1:\n",
    "        break\n",
    "    if num%2 == 1:\n",
    "        count = count + 1\n",
    "\n",
    "print(count)"
   ]
  },
  {
   "cell_type": "code",
   "execution_count": null,
   "metadata": {},
   "outputs": [],
   "source": [
    "# 배스킨라빈스 31 게임\n",
    "# n명의 플레이어가 1부터 숫자를 세어서 31을 말하는 사람이 지는 게임\n",
    "# 각 플레이어는 숫자를 최대 3개까지만 말할 수 있음\n",
    "\n",
    "# 플레이어 2명\n",
    "# split 함수 : 공백을 기준으로 문자열을 잘라서 리스트로 만들어 줌"
   ]
  },
  {
   "cell_type": "code",
   "execution_count": null,
   "metadata": {},
   "outputs": [],
   "source": [
    "def main():\n",
    "    while True:\n",
    "        p1_num = input(\"플레이어1) 숫자를 입력해 주세요(최대 3개) : \")\n",
    "        p1_num_list = p1_num.split()\n",
    "\n",
    "        if p1_num_list[-1] == '30':\n",
    "            print(\"플레이어2가 졌습니다.\")\n",
    "            break\n",
    "\n",
    "        p2_num = input(\"플레이어2) 숫자를 입력해 주세요(최대 3개) : \")\n",
    "        p2_num_list = p2_num.split()\n",
    "\n",
    "        if p2_num_list[-1] == '30':\n",
    "            print(\"플레이어1이 졌습니다.\")\n",
    "            break\n",
    "main()"
   ]
  },
  {
   "cell_type": "code",
   "execution_count": null,
   "metadata": {},
   "outputs": [],
   "source": [
    "# 소수(prime number) 구하기\n",
    "# 소수 : 약수가 1과 자기 자신밖에 없는 숫자\n",
    "# 2, 3, 5, 7, 11, 13, 17, 19....\n",
    "# 1. 입력받은 숫자가 소수인지 아닌지를 판단\n",
    "# 2. 1부터 입력받은 숫자까지 소수가 몇개인지를 세기"
   ]
  },
  {
   "cell_type": "code",
   "execution_count": null,
   "metadata": {},
   "outputs": [],
   "source": [
    "def main():\n",
    "    num = int(input(\"숫자를 입력해 주세요 : \"))\n",
    "\n",
    "    # 2부터 num-1까지의 숫자들로 num을 하나씩 나누어 보고\n",
    "    # 모든 경우에 나머지가 0이 아니면(하나라도 0이면)\n",
    "    # 소수이다(소수가 아니다)\n",
    "    for i in range(2, num):\n",
    "        if num%i == 0:\n",
    "            print(\"소수가 아니다.\")\n",
    "            break\n",
    "        else:\n",
    "            print(\"소수이다.\")\n",
    "\n",
    "main()"
   ]
  },
  {
   "cell_type": "code",
   "execution_count": null,
   "metadata": {},
   "outputs": [],
   "source": [
    "# 입력된 숫자가 소수인지 아닌지를 판단하는 함수\n",
    "\n",
    "def is_primenum(num): # 입력된 숫자가 소수이면 return True, 소수가 아니면 return False\n",
    "    for i in range(2, num):\n",
    "        if num%i == 0:\n",
    "            return False\n",
    "        # return 키워드는 output을 돌려줄 때 사용함\n",
    "        # 함수 안에서 return을 만나면, 거기에서 함수의 모든 내용이 끝남\n",
    "    return True\n",
    "\n",
    "def main():\n",
    "    num = int(input(\"숫자를 입력해 주세요 : \"))\n",
    "\n",
    "    result = is_primenum(num)\n",
    "    if result:\n",
    "        print(\"소수입니다.\")\n",
    "    else:\n",
    "        print(\"소수가 아닙니다.\")"
   ]
  },
  {
   "cell_type": "code",
   "execution_count": null,
   "metadata": {},
   "outputs": [],
   "source": [
    "# 소수(prime number) 구하기\n",
    "# 1부터 입력된 숫자까지 소수가 무엇무엇이 있는지 구하기\n",
    "# 1과 자기자신 외에는 약수가 없는 수 ex) 2, 3, 5, 7, 11 ....\n",
    "\n",
    "def main():\n",
    "    num = int(input(\"숫자를 입력해 주세요 : \"))\n",
    "    prime_list = []\n",
    "\n",
    "    for i in range(2, num+1):\n",
    "        prime_check = True \n",
    "        # 소수인지 아닌지를 판단해주는 변수를 reset\n",
    "        # i가 소수인지 아닌지를 판단해서 소수면 저장, 아니면 pass\n",
    "        # 1. 여기에서 직접 i가 소수인지 아닌지 판단할 것인지\n",
    "        # i=6\n",
    "        for j in range(2, i): # 2이상 6미만\n",
    "            # j=4\n",
    "            if i%j==0: # 5/4 나머지\n",
    "                prime_check = False\n",
    "        \n",
    "        if prime_check == True:\n",
    "            prime_list.append(i)\n",
    "\n",
    "    print(prime_list)\n",
    "\n",
    "main()"
   ]
  },
  {
   "cell_type": "code",
   "execution_count": null,
   "metadata": {},
   "outputs": [],
   "source": [
    "# 완전수(perfect number)\n",
    "# 자기자신을 제외한 약수를 모두 더했을 때, 자기자신이 나오는 수\n",
    "# 6의 약수 : 1, 2, 3, 6 => 1+2+3 =6\n",
    "# 28의 약수 : 1, 2, 4, 7, 14, 28 => 1+2+4+7+14 = 28\n",
    "\n",
    "def is_perfectnum(num):\n",
    "    # num이 완전수인지 아닌지를 판단\n",
    "    # num을 제외한 num의 약수를 모두 구하고 \n",
    "    # 그 약수들의 합이 num과 같으면 return True 아니면 return False\n",
    "    div_list = []\n",
    "\n",
    "    # ex) num = 10\n",
    "    for i in range(1, num): # 1이상 num미만\n",
    "        if num%i == 0: # i는 num의 약수\n",
    "            div_list.append(i)\n",
    "\n",
    "    # div_list안에는 자기자신(num)을 제외한 약수들이 요소로 들어가 있음\n",
    "    # div_list안에 있는 요소들의 합(자기자신을 제외한 약수들의 합)이 num과 같으면 True, 아니면 False\n",
    "    if sum(div_list) == num:\n",
    "        return True\n",
    "    else:\n",
    "        return False\n",
    "\n",
    "def main():\n",
    "    num = int(input(\"숫자를 입력해 주세요 : \"))\n",
    "    perfect_list = []\n",
    "\n",
    "    for i in range(2,  num+1):\n",
    "        if i%10000 == 0:\n",
    "            print(i)\n",
    "        \n",
    "        perfect_check = is_perfectnum(i)\n",
    "        if perfect_check == True:\n",
    "            perfect_list.append(i)\n",
    "    \n",
    "    print(perfect_list)\n",
    "\n",
    "main()"
   ]
  },
  {
   "cell_type": "code",
   "execution_count": null,
   "metadata": {},
   "outputs": [],
   "source": [
    "# 1부터 입력된 숫자 사이에 '5'가 몇개 있는지 세기\n",
    "# 1부터 1000 사이에 '5'가 몇개 있는가?\n",
    "# 525 => 5가 2개\n",
    "# 355 => 5가 2개\n",
    "# 258 => 5가 1개\n",
    "# 555 => 5가 3개"
   ]
  },
  {
   "cell_type": "code",
   "execution_count": null,
   "metadata": {},
   "outputs": [],
   "source": [
    "def get_count(num): # ex) 525\n",
    "    # 숫자를 하나 입력으로 받아서 그 안에 5가 몇개가 있는지를 세어서\n",
    "    # 개수를 return 해주는 함수\n",
    "    c = 0\n",
    "    for j in str(num):\n",
    "        if j=='5':\n",
    "            c = c+1\n",
    "    return c\n",
    "def main():\n",
    "    num = int(input(\"숫자를 입력해 주세요 : \"))\n",
    "    count = 0\n",
    "\n",
    "    for i in range(1, num+1):\n",
    "        # i안에 5가 몇개가 있는가를 받아서 더해줌\n",
    "        # i=525\n",
    "        c = get_count(i) # c=2\n",
    "        count = count + c # count + 2\n",
    "\n",
    "    print(count)\n",
    "\n",
    "main()"
   ]
  },
  {
   "cell_type": "code",
   "execution_count": null,
   "metadata": {},
   "outputs": [],
   "source": [
    "# 1부터 입력된 숫자(ex. num=1000) 사이에 x가 몇개 있는지 세기\n",
    "\n",
    "def get_count(num, x): # ex) 525\n",
    "    # 숫자를 하나 입력으로 받아서 그 안에 5가 몇개가 있는지를 세어서\n",
    "    # 개수를 return 해주는 함수\n",
    "    c = 0\n",
    "    for j in str(num):\n",
    "        if j==str(x):\n",
    "            c = c+1\n",
    "    return c\n",
    "\n",
    "def main():\n",
    "    num = int(input(\"숫자를 입력해 주세요 : \"))\n",
    "    x = int(input(\"x를 입력해 주세요 : \"))\n",
    "    count = 0\n",
    "\n",
    "    for i in range(1, num+1):\n",
    "        c = get_count(i, x) # c = 2\n",
    "        count = count = count+c # count + 2\n",
    "\n",
    "    print(count)\n",
    "main() "
   ]
  }
 ]
}