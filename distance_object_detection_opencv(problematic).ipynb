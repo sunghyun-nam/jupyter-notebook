{
 "metadata": {
  "language_info": {
   "codemirror_mode": {
    "name": "ipython",
    "version": 3
   },
   "file_extension": ".py",
   "mimetype": "text/x-python",
   "name": "python",
   "nbconvert_exporter": "python",
   "pygments_lexer": "ipython3",
   "version": "3.7.10"
  },
  "orig_nbformat": 2,
  "kernelspec": {
   "name": "python3710jvsc74a57bd0f6d5af05d9ffa18d10e1946101517de65c44cb20f0bb637e9d7bfe5c4a6fa4ea",
   "display_name": "Python 3.7.10 64-bit ('tensorflow1': conda)"
  }
 },
 "nbformat": 4,
 "nbformat_minor": 2,
 "cells": [
  {
   "cell_type": "code",
   "execution_count": 1,
   "metadata": {},
   "outputs": [],
   "source": [
    "import cv2\n",
    "import numpy as np\n",
    "from realsense_depth import *"
   ]
  },
  {
   "cell_type": "code",
   "execution_count": null,
   "metadata": {},
   "outputs": [],
   "source": [
    "video = cv2.VideoCapture(\"battery.avi\")\n",
    "\n",
    "_, first_frame = video.read() # 영상에서 첫번째 프레임만 얻기 위해\n",
    "x = 135\n",
    "y = 270\n",
    "width = 230\n",
    "height = 400\n",
    "roi = first_frame[y: y + height, x: x + width]  # first_frame에서 배터리 이미지만 추출\n",
    "hsv_roi = cv2.cvtColor(roi, cv2.COLOR_BGR2HSV) #..?\n",
    "roi_hist = cv2.calcHist([hsv_roi], [0], None, [180], [0, 180])\n",
    "# HSV는 channel이 3개이므로 정확한 측정을 위해서 1개의 channel만 사용\n",
    "roi_hist = cv2.normalize(roi_hist, roi_hist, 0, 255, cv2.NORM_MINMAX) # 최소 0, 최대 255 설정\n",
    "print(roi_hist)\n",
    "\n",
    "term_criteria = (cv2.TERM_CRITERIA_EPS | cv2.TERM_CRITERIA_COUNT, 10, 1) # minshift 알고리즘 세부사항\n",
    "dc = DepthCamera()\n",
    "\n",
    "while True:\n",
    "    ret, depth_frame, frame = dc.get_frame()\n",
    "    hsv = cv2.cvtColor(frame, cv2.COLOR_BGR2HSV)\n",
    "    mask = cv2.calcBackProject([hsv], [0], roi_hist, [0, 180], 1)\n",
    "    \n",
    "    _, track_window = cv2.meanShift(mask, (x, y, width, height), term_criteria) # 흰색이 분포하는 곳의 x, y, width, height 좌표출력\n",
    "    x, y, w, h = track_window # 각각의 변수에 값을 저장\n",
    "    point = (int((x + w) / 2), int((y + h) / 2))\n",
    "   \n",
    "    cv2.rectangle(frame, (x, y), (x + w, y + h), (0, 255, 0), 2) # 위에 저장된 변수를 포함하는 사각형 형성 \n",
    "    cv2.circle(frame, point, 15, (0, 0, 225))\n",
    "        \n",
    "    distance = depth_frame[point[1], point[0]]\n",
    "    cv2.putText(frame, \"{}mm\".format(distance), (point[0], point[1]), cv2.FONT_HERSHEY_PLAIN, 1,(0, 0, 0), 2)\n",
    "    \n",
    "    cv2.imshow(\"Mask\", mask) # 대상이미지를 하얀색 점으로 표시 \n",
    "    cv2.imshow(\"roi\", roi)\n",
    "    cv2.imshow(\"first_frame\", first_frame)\n",
    "    cv2.imshow(\"depth frame\", depth_frame)\n",
    "    cv2.imshow(\"frame\", frame)\n",
    "    \n",
    "    key = cv2.waitKey(1) # battery.avi 영상 재생 속도 설정\n",
    "    if key == 27:\n",
    "        break\n",
    "\n",
    "video.release()\n",
    "cv2.destroyAllWindows()"
   ]
  }
 ]
}